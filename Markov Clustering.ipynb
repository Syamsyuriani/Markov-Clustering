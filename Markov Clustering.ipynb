## Make a friendship graph from an adjacency matrix
import networkx as nx 
import numpy as np
import matplotlib.pyplot as plt

GI =  [[1, 1, 1, 0, 1, 0, 0, 0, 0, 0, 1, 0, 1, 0, 0, 0, 1, 0, 0, 0, 0],
       [1, 1, 1, 0, 1, 0, 0, 1, 1, 0, 0, 0, 1, 0, 0, 0, 0, 0, 0, 0, 0],
       [1, 1, 1, 0, 1, 0, 1, 1, 0, 0, 0, 0, 0, 0, 0, 1, 0, 0, 1, 0, 1],
       [0, 0, 0, 1, 1, 1, 0, 1, 1, 0, 1, 0, 1, 1, 0, 0, 0, 0, 0, 0, 1],
       [1, 1, 1, 1, 1, 0, 0, 0, 0, 0, 0, 0, 0, 1, 1, 1, 0, 1, 1, 0, 0],
       [0, 0, 0, 1, 0, 1, 0, 0, 0, 1, 1, 0, 0, 0, 0, 0, 1, 1, 0, 1, 1],
       [0, 0, 1, 0, 0, 0, 1, 1, 0, 1, 1, 0, 0, 0, 0, 0, 1, 0, 1, 1, 0],
       [0, 1, 1, 1, 0, 0, 1, 1, 0, 0, 0, 0, 0, 0, 0, 0, 0, 0, 0, 1, 1],
       [0, 1, 0, 1, 0, 0, 0, 0, 1, 1, 1, 0, 0, 1, 0, 1, 1, 1, 1, 1, 1],
       [0, 0, 0, 0, 0, 1, 1, 0, 1, 1, 1, 1, 1, 0, 1, 1, 1, 0, 1, 0, 1],
       [1, 0, 0, 1, 0, 1, 1, 0, 1, 1, 1, 1, 0, 0, 0, 0, 0, 0, 0, 0, 0],
       [0, 0, 0, 0, 0, 0, 0, 0, 0, 1, 1, 1, 1, 1, 1, 1, 1, 1, 1, 1, 1],
       [1, 1, 0, 1, 0, 0, 0, 0, 0, 1, 0, 1, 1, 0, 0, 0, 0, 0, 0, 0, 0],
       [0, 0, 0, 1, 1, 0, 0, 0, 1, 0, 0, 1, 0, 1, 1, 1, 1, 0, 0, 1, 1],
       [0, 0, 0, 0, 1, 0, 0, 0, 0, 1, 0, 1, 0, 1, 1, 0, 0, 0, 0, 0, 0],
       [0, 0, 1, 0, 1, 0, 0, 0, 1, 1, 0, 1, 0, 1, 0, 1, 0, 0, 0, 0, 0],
       [1, 0, 0, 0, 0, 1, 1, 0, 1, 1, 0, 1, 0, 1, 0, 0, 1, 0, 0, 0, 0],
       [0, 0, 0, 0, 1, 1, 0, 0, 1, 0, 0, 1, 0, 0, 0, 0, 0, 1, 1, 1, 1],
       [0, 0, 1, 0, 1, 0, 1, 0, 1, 1, 0, 1, 0, 0, 0, 0, 0, 1, 1, 1, 1],
       [0, 0, 0, 0, 0, 1, 1, 1, 1, 0, 0, 1, 0, 1, 0, 0, 0, 1, 1, 1, 1],
       [0, 0, 1, 1, 0, 1, 0, 1, 1, 1, 0, 1, 0, 1, 0, 0, 0, 1, 1, 1, 1]]

labels = {}
labels[0] = r"$Adi$"
labels[1] = r"$Bima$"
labels[2] = r"$Cella$"
labels[3] = r"$Dian$"
labels[4] = r"$Ervian$"
labels[5] = r"$Fina$"
labels[6] = r"$Gina$"
labels[7] = r"$Harum$"
labels[8] = r"$Indah$"
labels[9] = r"$Jane$"
labels[10] = r"$Kinan$"
labels[11] = r"$Lista$"
labels[12] = r"$Merida$"
labels[13] = r"$Nikson$"
labels[14] = r"$Odi$"
labels[15] = r"$Putri$"
labels[16] = r"$Qinsha$"
labels[17] = r"$Restu$"
labels[18] = r"$Syams$"
labels[19] = r"$Tiara$"
labels[20] = r"$Ulan$"

options = {
    "linewidths": 3,
    "node_size": 800,
    "width": 1,
    "labels": labels,
    "node_size":10,
    "font_size": 20,
    "edge_color":"tab:green",
    "node_color": "tab:red",
    "font_size": 15
}

G = nx.from_numpy_matrix(np.array(GI))  
pos = nx.spring_layout(G, k=0.6, seed=400)
nx.draw(G, pos, with_labels=True, **options)


## Define self-loop, Expand, Inflate, Normalize, and Prune function
import sklearn.preprocessing
import numpy as np

def self-loop(matrix):
    for i in range(len(matrix)):
        matrix[i][i] = 1
    return matrix

def Expand(matrix):
    expand = [[0]*len(matrix) for _ in matrix]
    for i in range(0, len(matrix)):
      for j in range(0, len(matrix)):
        for k in range(0, len(matrix)):
          expand[i][j] += matrix[i][k] * matrix[k][j]
    return expand

def Inflate(matrix):
    #Inflate
    inflate = np.power(matrix,2)
    return inflate

def Normal(matrix):
    normal = sklearn.preprocessing.normalize(matrix, norm="l1", axis=0)
    return normal

def Prune(matrix):
    prune = [[0]*len(matrix) for _ in matrix]
    for i in range(len(matrix)):
      for j in range(len(matrix)):
        if matrix[i][j] <= 0.1:
          prune[i][j] = 0
        elif matrix[i][j] >= 0.9:
          prune[i][j] = 1
        else:
          prune[i][j] = matrix[i][j]
    return prune

## Define a function to find global chaos value
def Chaos(matrix):
    chaos = [0]*len(matrix)
    cal = np.transpose(matrix)
    jml_kolom = [0]*len(matrix)
    for j in range(len(matrix)):
      for k in range(len(matrix)):
        jml_kolom[j] += np.power(cal[j][k], 2)

    for i in range(len(matrix)):
      chaos[i] = (cal[i]).max() -jml_kolom[i]
    global_chaos = np.array(chaos).max()
    return global_chaos

# Apply markov clustering to the adjacency matrix, GI
k = self-loop(GI)
h = Expand(k)
a = Inflate(h)
s = Normal(a)
i = Prune(s)
while Chaos(l) > 0.001:
  h = Expand(i)
  a = Inflate(h)
  s = Normal(a)
  i = Prune(s)

print(np.array(i))

## Displays result as a graph
options = {
    "linewidths": 5,
    "node_size": 800,
    "width": 3,
    "labels": labels,
    "node_size":10,
    "font_size": 15,
    "edge_color":"tab:green",
    "node_color": "tab:red",
    "font_size": 15
}

G = nx.from_numpy_matrix(np.array(i))  
pos = nx.spring_layout(G, k=0.6, seed=401)
nx.draw(G, pos, with_labels=True, **options)
